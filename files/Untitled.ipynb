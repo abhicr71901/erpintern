{
 "cells": [
  {
   "cell_type": "code",
   "execution_count": 23,
   "id": "097e5937-a781-4c84-a293-218e709ae522",
   "metadata": {},
   "outputs": [],
   "source": [
    "import networkx as nx"
   ]
  },
  {
   "cell_type": "code",
   "execution_count": null,
   "id": "2bad4cdf-5618-4c1f-a034-d7c552d07575",
   "metadata": {},
   "outputs": [],
   "source": []
  },
  {
   "cell_type": "code",
   "execution_count": 24,
   "id": "219c96b5-f554-44ca-8fca-aa6a34ad2d93",
   "metadata": {},
   "outputs": [],
   "source": [
    "H = nx.DiGraph()\n",
    "\n",
    "H.add_nodes_from( [ \n",
    "    (0, {\"color\" : \"gray\", \"size\" : 450 }), \n",
    "    (1, {\"color\" : \"red\", \"size\" : 750}),\n",
    "    (2, {\"color\" : \"yellow\", \"size\" : 250}),\n",
    "    (3, {\"color\" : \"green\", \"size\" : 500 }), \n",
    "])"
   ]
  },
  {
   "cell_type": "code",
   "execution_count": 25,
   "id": "bb955290-0c98-4d83-a058-8dc201cc06e1",
   "metadata": {},
   "outputs": [
    {
     "name": "stdout",
     "output_type": "stream",
     "text": [
      "(0, {'color': 'gray', 'size': 450})\n",
      "(1, {'color': 'red', 'size': 750})\n",
      "(2, {'color': 'yellow', 'size': 250})\n",
      "(3, {'color': 'green', 'size': 500})\n"
     ]
    }
   ],
   "source": [
    "for node in H.nodes(data = True):\n",
    "    print(node)\n",
    "    \n"
   ]
  },
  {
   "cell_type": "code",
   "execution_count": 26,
   "id": "9895dad7-80bb-4178-8812-ee89c1df478f",
   "metadata": {},
   "outputs": [
    {
     "name": "stdout",
     "output_type": "stream",
     "text": [
      "[(0, 1), (1, 2), (2, 0), (2, 3), (3, 2)]\n"
     ]
    }
   ],
   "source": [
    "H.add_edges_from([\n",
    "    (0,1),\n",
    "    (1,2),\n",
    "    (2,0),\n",
    "    (2,3),\n",
    "    (3,2)\n",
    "    ])\n",
    "    \n",
    "print(H.edges())"
   ]
  },
  {
   "cell_type": "code",
   "execution_count": 27,
   "id": "d012fca1-7104-48b1-8524-ccbf9dbbc158",
   "metadata": {},
   "outputs": [
    {
     "name": "stdout",
     "output_type": "stream",
     "text": [
      "Directed graph: True\n",
      "Number of nodes: 4\n",
      "Number of edges: 5\n"
     ]
    }
   ],
   "source": [
    "def print_graph_info(graph):\n",
    "  print(\"Directed graph:\", graph.is_directed())\n",
    "  print(\"Number of nodes:\", graph.number_of_nodes())\n",
    "  print(\"Number of edges:\", graph.number_of_edges())\n",
    "\n",
    "print_graph_info(H)"
   ]
  },
  {
   "cell_type": "code",
   "execution_count": 28,
   "id": "19009896-b0fd-40f6-a35f-2a10f7e81e94",
   "metadata": {},
   "outputs": [
    {
     "data": {
      "image/png": "[encoded data removed]",
      "text/plain": [
       "<Figure size 432x288 with 1 Axes>"
      ]
     },
     "metadata": {},
     "output_type": "display_data"
    }
   ],
   "source": [
    "node_colors = nx.get_node_attributes(H, \"color\").values()\n",
    "colors = list(node_colors)\n",
    "node_sizes = nx.get_node_attributes(H, \"size\").values()\n",
    "sizes = list(node_sizes)\n",
    "nx.draw(H, with_labels=True, node_color=colors, node_size=sizes)\n"
   ]
  },
  {
   "cell_type": "code",
   "execution_count": 29,
   "id": "5ec3d8d8-0c11-46e3-b61d-535fdb507ba7",
   "metadata": {},
   "outputs": [
    {
     "name": "stdout",
     "output_type": "stream",
     "text": [
      "Directed graph: False\n",
      "Number of nodes: 4\n",
      "Number of edges: 4\n"
     ]
    }
   ],
   "source": [
    "G = H.to_undirected()\n",
    "print_graph_info(G)"
   ]
  },
  {
   "cell_type": "code",
   "execution_count": 30,
   "id": "ee277bf3-231d-4374-9216-ee71f570e639",
   "metadata": {},
   "outputs": [
    {
     "name": "stdout",
     "output_type": "stream",
     "text": [
      "[(0, 1), (0, 2), (1, 2), (2, 3)]\n"
     ]
    }
   ],
   "source": [
    "print(G.edges())"
   ]
  },
  {
   "cell_type": "code",
   "execution_count": 31,
   "id": "34f126ed-bb89-47f5-bc58-7318b1b4ba70",
   "metadata": {},
   "outputs": [
    {
     "data": {
      "image/png": "[encoded data removed]",
      "text/plain": [
       "<Figure size 432x288 with 1 Axes>"
      ]
     },
     "metadata": {},
     "output_type": "display_data"
    }
   ],
   "source": [
    "nx.draw(G, with_labels=True, node_color = colors, node_size=sizes)"
   ]
  },
  {
   "cell_type": "code",
   "execution_count": 32,
   "id": "44fd8d13-ade5-4af3-8823-694db80cdf05",
   "metadata": {},
   "outputs": [
    {
     "name": "stdout",
     "output_type": "stream",
     "text": [
      "Dataset: KarateClub()\n",
      "# Graphs: 1\n",
      "# Features: 34\n",
      "# Classes: 4\n"
     ]
    }
   ],
   "source": [
    "from torch_geometric.datasets import KarateClub\n",
    "dataset = KarateClub()\n",
    "print(\"Dataset:\", dataset)\n",
    "print(\"# Graphs:\", len(dataset))\n",
    "print(\"# Features:\", dataset.num_features)\n",
    "print(\"# Classes:\", dataset.num_classes)"
   ]
  },
  {
   "cell_type": "code",
   "execution_count": 22,
   "id": "720cc567-ce3f-4722-8e16-3a7a1df4327e",
   "metadata": {},
   "outputs": [
    {
     "name": "stdout",
     "output_type": "stream",
     "text": [
      "Collecting torch_scatter\n",
      "  Downloading torch_scatter-2.0.9.tar.gz (21 kB)\n",
      "Building wheels for collected packages: torch-scatter\n",
      "  Building wheel for torch-scatter (setup.py) ... \u001b[?25ldone\n",
      "\u001b[?25h  Created wheel for torch-scatter: filename=torch_scatter-2.0.9-cp39-cp39-macosx_10_9_x86_64.whl size=295766 sha256=f9a06c751f9229f50d4b2374328c1eb4d75cb21d8fb6815c4b365a904e46a818\n",
      "  Stored in directory: /Users/Alienist/Library/Caches/pip/wheels/0f/60/0a/78e62f3c2b8055590441b1cb389eb274e3740d8d7462c7abd8\n",
      "Successfully built torch-scatter\n",
      "Installing collected packages: torch-scatter\n",
      "Successfully installed torch-scatter-2.0.9\n",
      "Note: you may need to restart the kernel to use updated packages.\n"
     ]
    }
   ],
   "source": [
    "pip install torch_scatter"
   ]
  },
  {
   "cell_type": "code",
   "execution_count": null,
   "id": "a256d9f7-26e6-4eae-8951-f85a7f62c26a",
   "metadata": {},
   "outputs": [],
   "source": [
    "read_csv(r\"filepath\", encoding = utf-8)"
   ]
  }
 ],
 "metadata": {
  "kernelspec": {
   "display_name": "Python 3 (ipykernel)",
   "language": "python",
   "name": "python3"
  },
  "language_info": {
   "codemirror_mode": {
    "name": "ipython",
    "version": 3
   },
   "file_extension": ".py",
   "mimetype": "text/x-python",
   "name": "python",
   "nbconvert_exporter": "python",
   "pygments_lexer": "ipython3",
   "version": "3.9.7"
  }
 },
 "nbformat": 4,
 "nbformat_minor": 5
}
